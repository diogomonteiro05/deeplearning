{
 "cells": [
  {
   "cell_type": "code",
   "execution_count": null,
   "metadata": {},
   "outputs": [],
   "source": [
    "!cp -r /kaggle/input/diffusers/diffusers /kaggle/working/"
   ]
  },
  {
   "cell_type": "code",
   "execution_count": null,
   "metadata": {},
   "outputs": [],
   "source": [
    "%cd /kaggle/working/diffusers"
   ]
  },
  {
   "cell_type": "code",
   "execution_count": null,
   "metadata": {},
   "outputs": [],
   "source": [
    "!pip install . --no-build-isolation"
   ]
  },
  {
   "cell_type": "code",
   "execution_count": null,
   "metadata": {},
   "outputs": [],
   "source": [
    "%cd /kaggle/working/diffusers/examples/unconditional_image_generation"
   ]
  },
  {
   "cell_type": "code",
   "execution_count": null,
   "metadata": {},
   "outputs": [],
   "source": [
    "!pip install -r requirements.txt"
   ]
  },
  {
   "cell_type": "code",
   "execution_count": null,
   "metadata": {},
   "outputs": [],
   "source": [
    "from pathlib import Path\n",
    "\n",
    "config_text = \"\"\"\n",
    "compute_environment: LOCAL_MACHINE\n",
    "deepspeed_config: {}\n",
    "distributed_type: NO\n",
    "gpu_ids: \"all\"  # Notice the quotes here\n",
    "machine_rank: 0\n",
    "main_process_ip: null\n",
    "main_process_port: null\n",
    "main_training_function: main\n",
    "megatron_lm_config: {}\n",
    "mixed_precision: fp16\n",
    "num_machines: 1\n",
    "num_processes: 1\n",
    "rdzv_backend: static\n",
    "same_network: true\n",
    "use_cpu: false\n",
    "\"\"\"\n",
    "\n",
    "config_path = Path(\"/root/.cache/huggingface/accelerate/default_config.yaml\")\n",
    "config_path.parent.mkdir(parents=True, exist_ok=True)\n",
    "config_path.write_text(config_text)\n",
    "\n",
    "print(f\"✅ Config file created at: {config_path}\")"
   ]
  },
  {
   "cell_type": "code",
   "execution_count": null,
   "metadata": {},
   "outputs": [],
   "source": [
    "!accelerate env"
   ]
  },
  {
   "cell_type": "code",
   "execution_count": null,
   "metadata": {},
   "outputs": [],
   "source": [
    "!ls /kaggle/working/diffusers/examples/unconditional_image_generation"
   ]
  },
  {
   "cell_type": "code",
   "execution_count": null,
   "metadata": {},
   "outputs": [],
   "source": [
    "import torch\n",
    "\n",
    "if torch.cuda.is_available():\n",
    "    print(f\"✅ GPU is available: {torch.cuda.get_device_name(0)}\")\n",
    "else:\n",
    "    print(\"❌ No GPU detected.\")"
   ]
  },
  {
   "cell_type": "code",
   "execution_count": null,
   "metadata": {},
   "outputs": [],
   "source": [
    "!accelerate launch /kaggle/working/diffusers/examples/unconditional_image_generation/train_unconditional.py \\\n",
    "    --train_data_dir /kaggle/input/wiki-dataset/wiki \\\n",
    "    --resolution=64 \\\n",
    "    --center_crop \\\n",
    "    --random_flip \\\n",
    "    --output_dir=\"ddpm-ema-wiki\" \\\n",
    "    --train_batch_size=16 \\\n",
    "    --num_epochs=1 \\\n",
    "    --gradient_accumulation_steps=1 \\\n",
    "    --use_ema \\\n",
    "    --learning_rate=1e-4 \\\n",
    "    --lr_warmup_steps=500 \\\n",
    "    --mixed_precision=no \n"
   ]
  },
  {
   "cell_type": "code",
   "execution_count": null,
   "metadata": {},
   "outputs": [],
   "source": [
    "import torch\n",
    "from diffusers import DDPMPipeline\n",
    "from PIL import Image\n",
    "import numpy as np\n",
    "import os\n",
    "\n",
    "# Define image name and path\n",
    "image_name = \"image_grid_5x5.png\"\n",
    "image_path = os.path.join(\"./\", image_name)\n",
    "\n",
    "# Load the trained model\n",
    "model_dir = \"./ddpm-ema-wiki\"  # Path to your trained model\n",
    "pipeline = DDPMPipeline.from_pretrained(model_dir)\n",
    "pipeline.to(\"cuda\" if torch.cuda.is_available() else \"cpu\")  # Make sure it uses the GPU if available\n",
    "\n",
    "# Generate 25 images\n",
    "num_images = 25\n",
    "images = [pipeline().images[0] for _ in range(num_images)]\n",
    "\n",
    "# Create a grid\n",
    "grid_size = 5\n",
    "width, height = images[0].size\n",
    "grid_image = Image.new('RGB', (grid_size * width, grid_size * height))\n",
    "\n",
    "for i, img in enumerate(images):\n",
    "    row = i // grid_size\n",
    "    col = i % grid_size\n",
    "    grid_image.paste(img, (col * width, row * height))\n",
    "\n",
    "# Save the image with an appropriate name\n",
    "grid_image.save(image_path)\n",
    "print(f\"✅ Imagem salva em: {image_path}\")\n",
    "\n",
    "# Exibir a imagem\n",
    "grid_image.show()\n"
   ]
  }
 ],
 "metadata": {
  "language_info": {
   "name": "python"
  }
 },
 "nbformat": 4,
 "nbformat_minor": 2
}
